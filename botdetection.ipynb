{
  "nbformat": 4,
  "nbformat_minor": 0,
  "metadata": {
    "colab": {
      "name": "CSCE 489 Project.ipynb",
      "provenance": [],
      "collapsed_sections": [],
      "toc_visible": true,
      "include_colab_link": true
    },
    "kernelspec": {
      "name": "python3",
      "display_name": "Python 3"
    },
    "language_info": {
      "name": "python"
    }
  },
  "cells": [
    {
      "cell_type": "markdown",
      "metadata": {
        "id": "view-in-github",
        "colab_type": "text"
      },
      "source": [
        "<a href=\"https://colab.research.google.com/github/wholenote/twitter_spambot_detection/blob/main/botdetection.ipynb\" target=\"_parent\"><img src=\"https://colab.research.google.com/assets/colab-badge.svg\" alt=\"Open In Colab\"/></a>"
      ]
    },
    {
      "cell_type": "markdown",
      "metadata": {
        "id": "su44TfRC3XT1"
      },
      "source": [
        "# **Twitter Bot Detection**\n",
        "\n",
        "\n",
        "---\n",
        "\n",
        "\n",
        "### CSCE 489 Semester Project\n",
        "Brian, Casey, & Rhonda\n",
        "\n"
      ]
    },
    {
      "cell_type": "markdown",
      "metadata": {
        "id": "h5zbFWLo0afv"
      },
      "source": [
        "##Mount Google Drive"
      ]
    },
    {
      "cell_type": "code",
      "metadata": {
        "id": "Eb1VOF6tK1kN",
        "colab": {
          "base_uri": "https://localhost:8080/"
        },
        "outputId": "e19a0eae-cca6-4ed9-91ce-f47e60887cee"
      },
      "source": [
        "from google.colab import drive\n",
        "drive.mount(\"/content/gdrive\")"
      ],
      "execution_count": 3,
      "outputs": [
        {
          "output_type": "stream",
          "text": [
            "Drive already mounted at /content/gdrive; to attempt to forcibly remount, call drive.mount(\"/content/gdrive\", force_remount=True).\n"
          ],
          "name": "stdout"
        }
      ]
    },
    {
      "cell_type": "markdown",
      "metadata": {
        "id": "TDl2deO2RGyi"
      },
      "source": [
        "## Dependencies"
      ]
    },
    {
      "cell_type": "code",
      "metadata": {
        "id": "wKFoTbqjRGgC"
      },
      "source": [
        "import pandas as pd\n",
        "import numpy as np\n",
        "\n",
        "from dateutil.parser import parse\n",
        "from sklearn import preprocessing\n",
        "from sklearn.model_selection import train_test_split\n",
        "from sklearn.metrics import classification_report, confusion_matrix\n",
        "from sklearn.utils import shuffle\n",
        "\n",
        "from sklearn.svm import SVC\n",
        "from sklearn.ensemble import RandomForestClassifier\n",
        "from sklearn.linear_model import LogisticRegression\n",
        "from sklearn.naive_bayes import GaussianNB, ComplementNB\n",
        "\n",
        "import tensorflow as tf\n",
        "from tensorflow import feature_column\n",
        "from tensorflow.keras import layers"
      ],
      "execution_count": 104,
      "outputs": []
    },
    {
      "cell_type": "markdown",
      "metadata": {
        "id": "VkTOUTXc03vQ"
      },
      "source": [
        "##Dataset: Preprocessing\n",
        "We used part of the cresci-2017 dataset from https://botometer.osome.iu.edu/bot-repository/datasets.html#cresci. Specifically, we used the genuine accounts and traditional spambots 1 data. "
      ]
    },
    {
      "cell_type": "code",
      "metadata": {
        "id": "trvavfMG05si",
        "colab": {
          "base_uri": "https://localhost:8080/"
        },
        "outputId": "23217e61-ebcc-41c7-89ca-c5c7920c53fc"
      },
      "source": [
        "# Genuine Account CSV files\n",
        "path_genuineAccounts_USERS = 'gdrive/Shareddrives/CSCE489 Project/genuine_accounts.csv/users.csv'\n",
        "path_genuineAccounts_TWEETS = 'gdrive/Shareddrives/CSCE489 Project/genuine_accounts.csv/tweets.csv'\n",
        "\n",
        "# Spam Bot Account CSV files\n",
        "path_spamBots_USERS = 'gdrive/Shareddrives/CSCE489 Project/traditional_spambots_1.csv/users.csv'\n",
        "path_spamBots_TWEETS = 'gdrive/Shareddrives/CSCE489 Project/traditional_spambots_1.csv/tweets.csv'\n",
        "\n",
        "df_genuine_users = pd.read_csv(path_genuineAccounts_USERS) \n",
        "df_genuine_tweets = pd.read_csv(path_genuineAccounts_TWEETS)\n",
        "df_spamBots_users = pd.read_csv(path_spamBots_USERS)\n",
        "df_spambots_tweets = pd.read_csv(path_spamBots_TWEETS)\n"
      ],
      "execution_count": 5,
      "outputs": [
        {
          "output_type": "stream",
          "text": [
            "/usr/local/lib/python3.7/dist-packages/IPython/core/interactiveshell.py:2718: DtypeWarning: Columns (0) have mixed types.Specify dtype option on import or set low_memory=False.\n",
            "  interactivity=interactivity, compiler=compiler, result=result)\n"
          ],
          "name": "stderr"
        }
      ]
    },
    {
      "cell_type": "markdown",
      "metadata": {
        "id": "BMa5MP_Z-N85"
      },
      "source": [
        "Removing the last 2 columns to have consistent columns between both spam and genuine dataset"
      ]
    },
    {
      "cell_type": "code",
      "metadata": {
        "id": "kopeX6jCQ00U"
      },
      "source": [
        "df_genuine_users.drop(columns=['test_set_1', 'test_set_2'], inplace=True)"
      ],
      "execution_count": 6,
      "outputs": []
    },
    {
      "cell_type": "markdown",
      "metadata": {
        "id": "ojBpbZmq-TO4"
      },
      "source": [
        "Preview of the dataset: users' information and tweets"
      ]
    },
    {
      "cell_type": "code",
      "metadata": {
        "id": "5FlmQ4KXQ6xb",
        "colab": {
          "base_uri": "https://localhost:8080/"
        },
        "outputId": "029f7083-e3f0-4b36-c642-ad4ed793be26"
      },
      "source": [
        "# Dataset Preview\n",
        "print(df_genuine_users.head())\n",
        "print(df_genuine_tweets.head())"
      ],
      "execution_count": 7,
      "outputs": [
        {
          "output_type": "stream",
          "text": [
            "           id               name  ...           crawled_at              updated\n",
            "0  1502026416    TASUKU HAYAKAWA  ...  2015-05-02 06:41:46  2016-03-15 15:53:47\n",
            "1  2492782375              ro_or  ...  2015-05-01 17:20:27  2016-03-15 15:53:48\n",
            "2   293212315           bearclaw  ...  2015-05-01 18:48:28  2016-03-15 15:53:48\n",
            "3   191839658  pocahontas farida  ...  2015-05-01 13:55:16  2016-03-15 15:53:48\n",
            "4  3020965143           Ms Kathy  ...  2015-05-02 01:17:32  2016-03-15 15:53:48\n",
            "\n",
            "[5 rows x 40 columns]\n",
            "                   id  ...              updated\n",
            "0  593932392663912449  ...  2015-05-01 12:57:19\n",
            "1  593895316719423488  ...  2015-05-01 12:57:19\n",
            "2  593880638069018624  ...  2015-05-01 12:57:19\n",
            "3  593847955536252928  ...  2015-05-01 12:57:19\n",
            "4  593847687847350272  ...  2015-05-01 12:57:19\n",
            "\n",
            "[5 rows x 25 columns]\n"
          ],
          "name": "stdout"
        }
      ]
    },
    {
      "cell_type": "code",
      "metadata": {
        "id": "rVNf0QpIkwub",
        "colab": {
          "base_uri": "https://localhost:8080/"
        },
        "outputId": "8df466ab-15f8-4e78-81ac-40da4355751b"
      },
      "source": [
        "for column in df_spambots_tweets.columns:\n",
        "  print(column + \": \" + str(df_genuine_tweets.loc[0, column]))\n",
        "# print(df_spambots_tweets.head(1))"
      ],
      "execution_count": 8,
      "outputs": [
        {
          "output_type": "stream",
          "text": [
            "id: 593932392663912449\n",
            "text: RT @morningJewshow: Speaking about Jews and comedy tonight at Temple Emanu-El in San Francisco. In other words, my High Holidays.\n",
            "source: <a href=\"http://tapbots.com/tweetbot\" rel=\"nofollow\">Tweetbot for iΟS</a>\n",
            "user_id: 678033.0\n",
            "truncated: nan\n",
            "in_reply_to_status_id: 0.0\n",
            "in_reply_to_user_id: 0.0\n",
            "in_reply_to_screen_name: nan\n",
            "retweeted_status_id: 5.939321685245338e+17\n",
            "geo: nan\n",
            "place: nan\n",
            "contributors: nan\n",
            "retweet_count: 1.0\n",
            "reply_count: 0.0\n",
            "favorite_count: 0.0\n",
            "favorited: nan\n",
            "retweeted: nan\n",
            "possibly_sensitive: nan\n",
            "num_hashtags: 0.0\n",
            "num_urls: 0.0\n",
            "num_mentions: 1.0\n",
            "created_at: Fri May 01 00:18:11 +0000 2015\n",
            "timestamp: 2015-05-01 02:18:11\n",
            "crawled_at: 2015-05-01 12:57:19\n",
            "updated: 2015-05-01 12:57:19\n"
          ],
          "name": "stdout"
        }
      ]
    },
    {
      "cell_type": "markdown",
      "metadata": {
        "id": "6OReKDhRQlZ8"
      },
      "source": [
        "## Feature Extraction\n",
        "Creating a vector of features for each user. Each user vector will contain the features shown in Table 3 below. The features were determined to the most useful characterisitcs for bot dectection models. Table 3 is obtained from: https://doi.org/10.1016/j.cose.2020.101715"
      ]
    },
    {
      "cell_type": "markdown",
      "metadata": {
        "id": "Kniv2-0yRzCa"
      },
      "source": [
        "![image.png](data:image/png;base64,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)"
      ]
    },
    {
      "cell_type": "markdown",
      "metadata": {
        "id": "LiEnRmnsSU9I"
      },
      "source": [
        "### X Vector (Features)\n",
        "Combine the genuine and spam datasets into one dataframe. x_df are the genuine and spam user CSVs combined. tweets_df are the genuine and spam tweets CSVs combined."
      ]
    },
    {
      "cell_type": "code",
      "metadata": {
        "id": "1nOdtwpI4UvT"
      },
      "source": [
        "x_df = df_genuine_users.append(df_spamBots_users)\n",
        "tweets_df = df_genuine_tweets.append(df_spambots_tweets)"
      ],
      "execution_count": 9,
      "outputs": []
    },
    {
      "cell_type": "markdown",
      "metadata": {
        "id": "3N8fmn7s8Gl_"
      },
      "source": [
        "Then, the features are calculated from the user information and user tweets dataframes"
      ]
    },
    {
      "cell_type": "code",
      "metadata": {
        "id": "NhQ2lcw5Ygqo"
      },
      "source": [
        "def change_ts(ts):\n",
        "  cts = 0\n",
        "  try:\n",
        "    cts = parse(ts).timestamp()\n",
        "  except:\n",
        "    cts = int(ts[:-1]) / 1000\n",
        "  return cts\n",
        "\n",
        "def get_intertime(df):\n",
        "  tweet_timestamps = []\n",
        "  \n",
        "  for index, row in df.iterrows():\n",
        "    tweet_timestamps.append(change_ts(str(row[\"created_at\"])))\n",
        "\n",
        "  # df[\"created_at\"].values.tolist().map(change_ts)\n",
        "  \n",
        "  tweet_timestamps.sort()\n",
        "  tts_diff = np.diff(np.array(tweet_timestamps))\n",
        "  return sum(tts_diff) / (len(tts_diff) if len(tts_diff) != 0 else 1)"
      ],
      "execution_count": 10,
      "outputs": []
    },
    {
      "cell_type": "code",
      "metadata": {
        "id": "AT6EIBX69qqK"
      },
      "source": [
        "x_vector = []\n",
        "\n",
        "for index, row in x_df.iterrows():\n",
        "  # current user's id\n",
        "  usr = row['id']\n",
        "  usr_tweets_df = tweets_df.loc[tweets_df[\"user_id\"] == usr]\n",
        "  tweet_count = len(usr_tweets_df) if len(usr_tweets_df) != 0 else 1\n",
        "\n",
        "  # calculate features\n",
        "  retweets = len(usr_tweets_df[usr_tweets_df.retweeted_status_id != 0]) / tweet_count\n",
        "  replies = len(usr_tweets_df[usr_tweets_df.in_reply_to_status_id != 0]) / tweet_count\n",
        "  favoriteC = row[\"favourites_count\"] / tweet_count\n",
        "  hashtag = sum(usr_tweets_df[\"num_hashtags\"].values.tolist()) / tweet_count\n",
        "  url = sum(usr_tweets_df[\"num_urls\"].values.tolist()) / tweet_count\n",
        "  mentions = sum(usr_tweets_df[\"num_mentions\"].values.tolist()) / tweet_count\n",
        "  intertime = get_intertime(usr_tweets_df)\n",
        "  ffratio = row[\"friends_count\"]/(row[\"followers_count\"] if row[\"followers_count\"] != 0 else 1)\n",
        "  favorites = row[\"favourites_count\"]\n",
        "  listed = row[\"listed_count\"]\n",
        "  uniqueHashtags = -1\n",
        "  uniqueMentions = -1\n",
        "  uniqueURL = -1\n",
        "\n",
        "  usr_features = [retweets, replies, favoriteC, hashtag, url, mentions, intertime, ffratio, favorites, listed]\n",
        "  x_vector.append(usr_features)\n"
      ],
      "execution_count": 93,
      "outputs": []
    },
    {
      "cell_type": "code",
      "metadata": {
        "colab": {
          "base_uri": "https://localhost:8080/"
        },
        "id": "RKvxb7rNLkYo",
        "outputId": "91c39dcf-83b2-4e9f-e81a-8ca5a537f52c"
      },
      "source": [
        "for i in range(5):\n",
        "  print(x_vector[i])"
      ],
      "execution_count": 96,
      "outputs": [
        {
          "output_type": "stream",
          "text": [
            "[0.0, 0.0, 265.0, 0.0, 0.0, 0.0, 0.0, 1.5961538461538463, 265, 1]\n",
            "[0.0, 0.0, 3972.0, 0.0, 0.0, 0.0, 0.0, 1.4696969696969697, 3972, 5]\n",
            "[0.0, 0.0, 1185.0, 0.0, 0.0, 0.0, 0.0, 1.0662650602409638, 1185, 0]\n",
            "[0.3391304347826087, 0.27670807453416146, 18.727950310559006, 0.14751552795031056, 0.09751552795031056, 0.825776397515528, 534.9173656415036, 0.4363879003558719, 60304, 101]\n",
            "[0.0, 0.0, 5.0, 0.0, 0.0, 0.0, 0.0, 3.761904761904762, 5, 0]\n"
          ],
          "name": "stdout"
        }
      ]
    },
    {
      "cell_type": "markdown",
      "metadata": {
        "id": "oSjQZVqyMwQY"
      },
      "source": [
        "Then, we normalize the input data."
      ]
    },
    {
      "cell_type": "code",
      "metadata": {
        "id": "9kDqyUleqw-w"
      },
      "source": [
        "x = preprocessing.normalize(x_vector)"
      ],
      "execution_count": 12,
      "outputs": []
    },
    {
      "cell_type": "markdown",
      "metadata": {
        "id": "w2oXUXrGGgY8"
      },
      "source": [
        "Preview of features after extraction and normalizing."
      ]
    },
    {
      "cell_type": "code",
      "metadata": {
        "id": "cohaHxWAGf-H",
        "colab": {
          "base_uri": "https://localhost:8080/"
        },
        "outputId": "f015e542-ba73-422a-f04a-8d6bc8d9cabd"
      },
      "source": [
        "df = pd.DataFrame(x, columns=['retweets', 'replies', 'favoriteC', 'hashtag', 'url', 'mentions', 'intertime', 'ffratio', 'favorites', 'listed'])\n",
        "pd.set_option('display.max_columns', None)\n",
        "print(df.head())\n",
        "pd.reset_option('max_columns')"
      ],
      "execution_count": 91,
      "outputs": [
        {
          "output_type": "stream",
          "text": [
            "   retweets   replies  favoriteC   hashtag           url  mentions  intertime  \\\n",
            "0  0.000047  0.000002   0.000242  0.000024  1.138270e-05  0.000056   0.672162   \n",
            "1  0.000000  0.000000   0.707088  0.000000  0.000000e+00  0.000000   0.000000   \n",
            "2  0.000000  0.000000   0.707107  0.000000  0.000000e+00  0.000000   0.000000   \n",
            "3  0.000000  0.000000   0.000000  0.000000  2.582579e-01  0.000000   0.000000   \n",
            "4  0.000000  0.000000   0.000000  0.000000  4.944606e-07  0.000000   1.000000   \n",
            "\n",
            "    ffratio  favorites        listed  \n",
            "0  0.000131   0.740404  2.119680e-04  \n",
            "1  0.000481   0.707088  7.239811e-03  \n",
            "2  0.000014   0.707107  1.533374e-04  \n",
            "3  0.966076   0.000000  0.000000e+00  \n",
            "4  0.000003   0.000000  4.944606e-07  \n"
          ],
          "name": "stdout"
        }
      ]
    },
    {
      "cell_type": "markdown",
      "metadata": {
        "id": "_Kx99F9KSQep"
      },
      "source": [
        "### Y Vector (Labels)\n",
        "**0 represents genuine (human account), 1 represents spam (bot account)**; the labels are created by combining np.zeros and np.ones."
      ]
    },
    {
      "cell_type": "code",
      "metadata": {
        "id": "sPBlr4H5SX0O"
      },
      "source": [
        "y = np.zeros(len(df_genuine_users), dtype=int).tolist() + np.ones(len(df_spamBots_users), dtype=int).tolist()"
      ],
      "execution_count": 13,
      "outputs": []
    },
    {
      "cell_type": "markdown",
      "metadata": {
        "id": "u5RNYqdaw2kB"
      },
      "source": [
        "## Split Train/Test Data"
      ]
    },
    {
      "cell_type": "code",
      "metadata": {
        "id": "WgOl8Ctew77N"
      },
      "source": [
        "x, y = shuffle(x, y)\n",
        "x_train, x_test, y_train, y_test = train_test_split(x, y)"
      ],
      "execution_count": 70,
      "outputs": []
    },
    {
      "cell_type": "markdown",
      "metadata": {
        "id": "HhiHsu_rrq7P"
      },
      "source": [
        "## Support Vector Machine"
      ]
    },
    {
      "cell_type": "markdown",
      "metadata": {
        "id": "9D_-LIrv3PcL"
      },
      "source": [
        "### Linear Kernel"
      ]
    },
    {
      "cell_type": "code",
      "metadata": {
        "id": "CEiDpklKrkqN",
        "colab": {
          "base_uri": "https://localhost:8080/"
        },
        "outputId": "b0613454-6ec4-4d8f-ebcb-cb32c12f07f1"
      },
      "source": [
        "SVC_linear_classifier = SVC(kernel='linear')\n",
        "SVC_linear_classifier.fit(x_train, y_train)\n",
        "\n",
        "y_pred = SVC_linear_classifier.predict(x_test)\n",
        "\n",
        "# print(confusion_matrix(y_test,y_pred))\n",
        "print(classification_report(y_test,y_pred, target_names=['Human', 'Bot']))\n",
        "\n",
        "tn, fp, fn, tp = confusion_matrix(y_test, y_pred).ravel()\n",
        "print(\"True Negatives: \",tn)\n",
        "print(\"False Positives: \",fp)\n",
        "print(\"False Negatives: \",fn)\n",
        "print(\"True Positives: \",tp)"
      ],
      "execution_count": 71,
      "outputs": [
        {
          "output_type": "stream",
          "text": [
            "              precision    recall  f1-score   support\n",
            "\n",
            "       Human       1.00      0.85      0.92       874\n",
            "         Bot       0.65      1.00      0.79       245\n",
            "\n",
            "    accuracy                           0.88      1119\n",
            "   macro avg       0.83      0.93      0.85      1119\n",
            "weighted avg       0.92      0.88      0.89      1119\n",
            "\n",
            "True Negatives:  744\n",
            "False Positives:  130\n",
            "False Negatives:  0\n",
            "True Positives:  245\n"
          ],
          "name": "stdout"
        }
      ]
    },
    {
      "cell_type": "markdown",
      "metadata": {
        "id": "CvZQ94NQ3TT5"
      },
      "source": [
        "###Polynominal Kernel"
      ]
    },
    {
      "cell_type": "code",
      "metadata": {
        "id": "P4zXUa9s3HEZ",
        "colab": {
          "base_uri": "https://localhost:8080/"
        },
        "outputId": "a350c9cb-efaf-4e93-8917-9e5bea8e8fc2"
      },
      "source": [
        "SVC_poly_classifier = SVC(kernel='poly')\n",
        "SVC_poly_classifier.fit(x_train, y_train)\n",
        "\n",
        "y_pred = SVC_poly_classifier.predict(x_test)\n",
        "\n",
        "# print(confusion_matrix(y_test,y_pred))\n",
        "print(classification_report(y_test,y_pred, target_names=['Human', 'Bot']))\n",
        "\n",
        "tn, fp, fn, tp = confusion_matrix(y_test, y_pred).ravel()\n",
        "print(\"True Negatives: \",tn)\n",
        "print(\"False Positives: \",fp)\n",
        "print(\"False Negatives: \",fn)\n",
        "print(\"True Positives: \",tp)"
      ],
      "execution_count": 72,
      "outputs": [
        {
          "output_type": "stream",
          "text": [
            "              precision    recall  f1-score   support\n",
            "\n",
            "       Human       1.00      0.87      0.93       874\n",
            "         Bot       0.69      1.00      0.81       245\n",
            "\n",
            "    accuracy                           0.90      1119\n",
            "   macro avg       0.84      0.94      0.87      1119\n",
            "weighted avg       0.93      0.90      0.91      1119\n",
            "\n",
            "True Negatives:  764\n",
            "False Positives:  110\n",
            "False Negatives:  1\n",
            "True Positives:  244\n"
          ],
          "name": "stdout"
        }
      ]
    },
    {
      "cell_type": "markdown",
      "metadata": {
        "id": "aeQ8xK-U5QLA"
      },
      "source": [
        "## Random Forest Classifier"
      ]
    },
    {
      "cell_type": "code",
      "metadata": {
        "id": "QNQRA-Ug5VRR",
        "colab": {
          "base_uri": "https://localhost:8080/"
        },
        "outputId": "620f4be9-9594-417d-958e-677f285e1de6"
      },
      "source": [
        "rfc_model = RandomForestClassifier()\n",
        "rfc_model.fit(x_train, y_train)"
      ],
      "execution_count": 73,
      "outputs": [
        {
          "output_type": "execute_result",
          "data": {
            "text/plain": [
              "RandomForestClassifier(bootstrap=True, ccp_alpha=0.0, class_weight=None,\n",
              "                       criterion='gini', max_depth=None, max_features='auto',\n",
              "                       max_leaf_nodes=None, max_samples=None,\n",
              "                       min_impurity_decrease=0.0, min_impurity_split=None,\n",
              "                       min_samples_leaf=1, min_samples_split=2,\n",
              "                       min_weight_fraction_leaf=0.0, n_estimators=100,\n",
              "                       n_jobs=None, oob_score=False, random_state=None,\n",
              "                       verbose=0, warm_start=False)"
            ]
          },
          "metadata": {
            "tags": []
          },
          "execution_count": 73
        }
      ]
    },
    {
      "cell_type": "code",
      "metadata": {
        "id": "v9fHhULg5l9k"
      },
      "source": [
        "y_pred = rfc_model.predict(x_test)"
      ],
      "execution_count": 74,
      "outputs": []
    },
    {
      "cell_type": "code",
      "metadata": {
        "id": "ig59TFoZ5oZH",
        "colab": {
          "base_uri": "https://localhost:8080/"
        },
        "outputId": "488ea1e2-039d-4fd3-f14a-28611fa08925"
      },
      "source": [
        "print(classification_report(y_test, y_pred, target_names=['Human', 'Bot']))"
      ],
      "execution_count": 76,
      "outputs": [
        {
          "output_type": "stream",
          "text": [
            "              precision    recall  f1-score   support\n",
            "\n",
            "       Human       0.99      0.99      0.99       874\n",
            "         Bot       0.97      0.97      0.97       245\n",
            "\n",
            "    accuracy                           0.99      1119\n",
            "   macro avg       0.98      0.98      0.98      1119\n",
            "weighted avg       0.99      0.99      0.99      1119\n",
            "\n"
          ],
          "name": "stdout"
        }
      ]
    },
    {
      "cell_type": "code",
      "metadata": {
        "id": "CcwPPGW05qqw",
        "colab": {
          "base_uri": "https://localhost:8080/"
        },
        "outputId": "74cf0c7b-4021-4eac-ecff-5afe0fe2ba2f"
      },
      "source": [
        "print(confusion_matrix(y_test, y_pred))\n",
        "tn, fp, fn, tp = confusion_matrix(y_test, y_pred).ravel()\n",
        "print(f\"True Negatives: {tn}, False Positives: {fp}, False Negatives: {fn}, True Positives: {tp}\")"
      ],
      "execution_count": 77,
      "outputs": [
        {
          "output_type": "stream",
          "text": [
            "[[867   7]\n",
            " [  7 238]]\n",
            "True Negatives: 867, False Positives: 7, False Negatives: 7, True Positives: 238\n"
          ],
          "name": "stdout"
        }
      ]
    },
    {
      "cell_type": "markdown",
      "metadata": {
        "id": "NAN9_0fm6BNQ"
      },
      "source": [
        "## Logistic Regression"
      ]
    },
    {
      "cell_type": "code",
      "metadata": {
        "id": "GZDEjmiM6A8c",
        "colab": {
          "base_uri": "https://localhost:8080/"
        },
        "outputId": "eb66b93b-1b96-48b1-a049-c9a47ef0bddf"
      },
      "source": [
        "logreg_model = LogisticRegression()\n",
        "logreg_model.fit(x_train, y_train)"
      ],
      "execution_count": 78,
      "outputs": [
        {
          "output_type": "execute_result",
          "data": {
            "text/plain": [
              "LogisticRegression(C=1.0, class_weight=None, dual=False, fit_intercept=True,\n",
              "                   intercept_scaling=1, l1_ratio=None, max_iter=100,\n",
              "                   multi_class='auto', n_jobs=None, penalty='l2',\n",
              "                   random_state=None, solver='lbfgs', tol=0.0001, verbose=0,\n",
              "                   warm_start=False)"
            ]
          },
          "metadata": {
            "tags": []
          },
          "execution_count": 78
        }
      ]
    },
    {
      "cell_type": "code",
      "metadata": {
        "id": "Uw9uq3pbENlt"
      },
      "source": [
        "y_pred = logreg_model.predict(x_test)"
      ],
      "execution_count": 79,
      "outputs": []
    },
    {
      "cell_type": "code",
      "metadata": {
        "id": "2alhsvOcEUPc",
        "colab": {
          "base_uri": "https://localhost:8080/"
        },
        "outputId": "1f15de66-4f6c-4756-d432-039c004ba474"
      },
      "source": [
        "print(classification_report(y_test, y_pred, target_names=['Human', 'Bot']))"
      ],
      "execution_count": 81,
      "outputs": [
        {
          "output_type": "stream",
          "text": [
            "              precision    recall  f1-score   support\n",
            "\n",
            "       Human       1.00      0.87      0.93       874\n",
            "         Bot       0.68      1.00      0.81       245\n",
            "\n",
            "    accuracy                           0.90      1119\n",
            "   macro avg       0.84      0.93      0.87      1119\n",
            "weighted avg       0.93      0.90      0.90      1119\n",
            "\n"
          ],
          "name": "stdout"
        }
      ]
    },
    {
      "cell_type": "code",
      "metadata": {
        "id": "rHL0fLVWEyRp",
        "colab": {
          "base_uri": "https://localhost:8080/"
        },
        "outputId": "3cc5674e-189b-44e9-de82-fe96eaa6d0d3"
      },
      "source": [
        "print(confusion_matrix(y_test, y_pred))\n",
        "tn, fp, fn, tp = confusion_matrix(y_test, y_pred).ravel()\n",
        "print(f\"True Negatives: {tn}, False Positives: {fp}, False Negatives: {fn}, True Positives: {tp}\")"
      ],
      "execution_count": 82,
      "outputs": [
        {
          "output_type": "stream",
          "text": [
            "[[760 114]\n",
            " [  0 245]]\n",
            "True Negatives: 760, False Positives: 114, False Negatives: 0, True Positives: 245\n"
          ],
          "name": "stdout"
        }
      ]
    },
    {
      "cell_type": "markdown",
      "metadata": {
        "id": "pMfOBsu1F16x"
      },
      "source": [
        "## Naive Bayes"
      ]
    },
    {
      "cell_type": "markdown",
      "metadata": {
        "id": "xNCyIox7N9rD"
      },
      "source": [
        "### Gaussian NB"
      ]
    },
    {
      "cell_type": "code",
      "metadata": {
        "id": "TIilJpkdF36F",
        "colab": {
          "base_uri": "https://localhost:8080/"
        },
        "outputId": "7375c959-870e-43e5-9f77-ad7a843c1624"
      },
      "source": [
        "n_bayes = GaussianNB()\n",
        "n_bayes.fit(x_train, y_train) "
      ],
      "execution_count": 83,
      "outputs": [
        {
          "output_type": "execute_result",
          "data": {
            "text/plain": [
              "GaussianNB(priors=None, var_smoothing=1e-09)"
            ]
          },
          "metadata": {
            "tags": []
          },
          "execution_count": 83
        }
      ]
    },
    {
      "cell_type": "code",
      "metadata": {
        "id": "D3KrJGxjf7rE"
      },
      "source": [
        "expected = y_test\n",
        "predicted = n_bayes.predict(x_test)"
      ],
      "execution_count": 84,
      "outputs": []
    },
    {
      "cell_type": "code",
      "metadata": {
        "colab": {
          "base_uri": "https://localhost:8080/"
        },
        "id": "Dc7GVQnOf_Nq",
        "outputId": "018f75a2-8925-4fcd-bdae-d5935691e3c1"
      },
      "source": [
        "print(classification_report(expected, predicted, target_names=['Human', 'Bot']))"
      ],
      "execution_count": 85,
      "outputs": [
        {
          "output_type": "stream",
          "text": [
            "              precision    recall  f1-score   support\n",
            "\n",
            "       Human       1.00      0.87      0.93       874\n",
            "         Bot       0.68      0.99      0.81       245\n",
            "\n",
            "    accuracy                           0.90      1119\n",
            "   macro avg       0.84      0.93      0.87      1119\n",
            "weighted avg       0.93      0.90      0.90      1119\n",
            "\n"
          ],
          "name": "stdout"
        }
      ]
    },
    {
      "cell_type": "code",
      "metadata": {
        "colab": {
          "base_uri": "https://localhost:8080/"
        },
        "id": "vxl1DeKWgKnz",
        "outputId": "4cfbe2ab-3a65-4ed5-9eb5-9503d3b9c384"
      },
      "source": [
        "print(confusion_matrix(expected, predicted))"
      ],
      "execution_count": 86,
      "outputs": [
        {
          "output_type": "stream",
          "text": [
            "[[761 113]\n",
            " [  3 242]]\n"
          ],
          "name": "stdout"
        }
      ]
    },
    {
      "cell_type": "code",
      "metadata": {
        "colab": {
          "base_uri": "https://localhost:8080/"
        },
        "id": "BrOfmnZkgRB5",
        "outputId": "bfe8b153-d2eb-454b-b466-aed76f02e1fd"
      },
      "source": [
        "tn, fp, fn, tp = confusion_matrix(expected, predicted).ravel()\n",
        "print(f\"True Negatives: {tn}, False Positives: {fp}, False Negatives: {fn}, True Positives: {tp}\")"
      ],
      "execution_count": 87,
      "outputs": [
        {
          "output_type": "stream",
          "text": [
            "True Negatives: 761, False Positives: 113, False Negatives: 3, True Positives: 242\n"
          ],
          "name": "stdout"
        }
      ]
    },
    {
      "cell_type": "markdown",
      "metadata": {
        "id": "SeGmH-BoOk-1"
      },
      "source": [
        "### Complement NB"
      ]
    },
    {
      "cell_type": "code",
      "metadata": {
        "colab": {
          "base_uri": "https://localhost:8080/"
        },
        "id": "PflmD6M4PHdh",
        "outputId": "15a0cc40-d377-4c7e-f8af-a02d22f808fb"
      },
      "source": [
        "cn_bayes = ComplementNB()\n",
        "cn_bayes.fit(x_train, y_train)"
      ],
      "execution_count": 117,
      "outputs": [
        {
          "output_type": "execute_result",
          "data": {
            "text/plain": [
              "ComplementNB(alpha=1.0, class_prior=None, fit_prior=True, norm=False)"
            ]
          },
          "metadata": {
            "tags": []
          },
          "execution_count": 117
        }
      ]
    },
    {
      "cell_type": "code",
      "metadata": {
        "id": "FZQYaf_2Pci0"
      },
      "source": [
        "y_pred = cn_bayes.predict(x_test)"
      ],
      "execution_count": 118,
      "outputs": []
    },
    {
      "cell_type": "code",
      "metadata": {
        "colab": {
          "base_uri": "https://localhost:8080/"
        },
        "id": "APvYbDREPZfe",
        "outputId": "fce4fda5-1aa7-445d-a072-31e97e06b334"
      },
      "source": [
        "print(classification_report(y_test, y_pred, target_names=['Human', 'Bot']))"
      ],
      "execution_count": 119,
      "outputs": [
        {
          "output_type": "stream",
          "text": [
            "              precision    recall  f1-score   support\n",
            "\n",
            "       Human       1.00      0.80      0.89       874\n",
            "         Bot       0.59      1.00      0.74       245\n",
            "\n",
            "    accuracy                           0.85      1119\n",
            "   macro avg       0.79      0.90      0.82      1119\n",
            "weighted avg       0.91      0.85      0.86      1119\n",
            "\n"
          ],
          "name": "stdout"
        }
      ]
    },
    {
      "cell_type": "code",
      "metadata": {
        "colab": {
          "base_uri": "https://localhost:8080/"
        },
        "id": "B0ILMAVbQiR5",
        "outputId": "76103c8e-73eb-42f7-b3e5-51f05c71c388"
      },
      "source": [
        "print(confusion_matrix(y_test, y_pred))\n",
        "tn, fp, fn, tp = confusion_matrix(y_test, y_pred).ravel()\n",
        "print(f\"True Negatives: {tn}, False Positives: {fp}, False Negatives: {fn}, True Positives: {tp}\")"
      ],
      "execution_count": 120,
      "outputs": [
        {
          "output_type": "stream",
          "text": [
            "[[702 172]\n",
            " [  0 245]]\n",
            "True Negatives: 702, False Positives: 172, False Negatives: 0, True Positives: 245\n"
          ],
          "name": "stdout"
        }
      ]
    },
    {
      "cell_type": "markdown",
      "metadata": {
        "id": "PRbSpfv6F-If"
      },
      "source": [
        "## Neural Network"
      ]
    },
    {
      "cell_type": "code",
      "metadata": {
        "id": "BU7kTTsZ-Qf9"
      },
      "source": [
        "# parameters\n",
        "batch_size = 32\n",
        "epochs = 20"
      ],
      "execution_count": 111,
      "outputs": []
    },
    {
      "cell_type": "code",
      "metadata": {
        "colab": {
          "base_uri": "https://localhost:8080/"
        },
        "id": "Wp97W3fa-rV0",
        "outputId": "79558ac4-53a7-4697-f98a-ae6cd1490d87"
      },
      "source": [
        "model = tf.keras.Sequential([\n",
        "  layers.Dense(10),\n",
        "  layers.Dense(128, activation='relu'),\n",
        "  layers.Dense(128, activation='relu'),\n",
        "  layers.Dropout(.1),\n",
        "  layers.Dense(1)\n",
        "])\n",
        "\n",
        "model.compile(optimizer='adam',\n",
        "              loss=tf.keras.losses.BinaryCrossentropy(from_logits=True),\n",
        "              metrics=['accuracy'])\n",
        "\n",
        "model.fit(np.array(x_train),\n",
        "          np.array(y_train),\n",
        "          batch_size=batch_size,\n",
        "          epochs=epochs)"
      ],
      "execution_count": 112,
      "outputs": [
        {
          "output_type": "stream",
          "text": [
            "Epoch 1/20\n",
            "105/105 [==============================] - 1s 2ms/step - loss: 0.4489 - accuracy: 0.7990\n",
            "Epoch 2/20\n",
            "105/105 [==============================] - 0s 2ms/step - loss: 0.2078 - accuracy: 0.8621\n",
            "Epoch 3/20\n",
            "105/105 [==============================] - 0s 2ms/step - loss: 0.1913 - accuracy: 0.8961\n",
            "Epoch 4/20\n",
            "105/105 [==============================] - 0s 2ms/step - loss: 0.1866 - accuracy: 0.8787\n",
            "Epoch 5/20\n",
            "105/105 [==============================] - 0s 2ms/step - loss: 0.1806 - accuracy: 0.9081\n",
            "Epoch 6/20\n",
            "105/105 [==============================] - 0s 2ms/step - loss: 0.1731 - accuracy: 0.8835\n",
            "Epoch 7/20\n",
            "105/105 [==============================] - 0s 1ms/step - loss: 0.1663 - accuracy: 0.9020\n",
            "Epoch 8/20\n",
            "105/105 [==============================] - 0s 1ms/step - loss: 0.1524 - accuracy: 0.9336\n",
            "Epoch 9/20\n",
            "105/105 [==============================] - 0s 2ms/step - loss: 0.1396 - accuracy: 0.9361\n",
            "Epoch 10/20\n",
            "105/105 [==============================] - 0s 2ms/step - loss: 0.1633 - accuracy: 0.9203\n",
            "Epoch 11/20\n",
            "105/105 [==============================] - 0s 2ms/step - loss: 0.1588 - accuracy: 0.9161\n",
            "Epoch 12/20\n",
            "105/105 [==============================] - 0s 2ms/step - loss: 0.1403 - accuracy: 0.9394\n",
            "Epoch 13/20\n",
            "105/105 [==============================] - 0s 2ms/step - loss: 0.1593 - accuracy: 0.9198\n",
            "Epoch 14/20\n",
            "105/105 [==============================] - 0s 2ms/step - loss: 0.1518 - accuracy: 0.9268\n",
            "Epoch 15/20\n",
            "105/105 [==============================] - 0s 2ms/step - loss: 0.1474 - accuracy: 0.9316\n",
            "Epoch 16/20\n",
            "105/105 [==============================] - 0s 2ms/step - loss: 0.1362 - accuracy: 0.9249\n",
            "Epoch 17/20\n",
            "105/105 [==============================] - 0s 2ms/step - loss: 0.1335 - accuracy: 0.9404\n",
            "Epoch 18/20\n",
            "105/105 [==============================] - 0s 2ms/step - loss: 0.1283 - accuracy: 0.9320\n",
            "Epoch 19/20\n",
            "105/105 [==============================] - 0s 1ms/step - loss: 0.1277 - accuracy: 0.9338\n",
            "Epoch 20/20\n",
            "105/105 [==============================] - 0s 1ms/step - loss: 0.1198 - accuracy: 0.9485\n"
          ],
          "name": "stdout"
        },
        {
          "output_type": "execute_result",
          "data": {
            "text/plain": [
              "<tensorflow.python.keras.callbacks.History at 0x7fbfd0c29350>"
            ]
          },
          "metadata": {
            "tags": []
          },
          "execution_count": 112
        }
      ]
    },
    {
      "cell_type": "code",
      "metadata": {
        "colab": {
          "base_uri": "https://localhost:8080/"
        },
        "id": "n0Unl4PWA7GV",
        "outputId": "40029cbb-32df-401a-b80d-ff158538420b"
      },
      "source": [
        "loss, accuracy = model.evaluate(np.array(x_test), np.array(y_test), batch_size=batch_size)\n",
        "print(\"Accuracy: \", accuracy)"
      ],
      "execution_count": 113,
      "outputs": [
        {
          "output_type": "stream",
          "text": [
            "35/35 [==============================] - 0s 1ms/step - loss: 0.1280 - accuracy: 0.9508\n",
            "Accuracy:  0.9508489966392517\n"
          ],
          "name": "stdout"
        }
      ]
    },
    {
      "cell_type": "code",
      "metadata": {
        "colab": {
          "base_uri": "https://localhost:8080/"
        },
        "id": "uQCxFoNJGi6c",
        "outputId": "6a53399f-596e-403d-820d-79e327194814"
      },
      "source": [
        "y_pred = model.predict_classes(x_test, verbose=0)"
      ],
      "execution_count": 114,
      "outputs": [
        {
          "output_type": "stream",
          "text": [
            "/usr/local/lib/python3.7/dist-packages/tensorflow/python/keras/engine/sequential.py:450: UserWarning: `model.predict_classes()` is deprecated and will be removed after 2021-01-01. Please use instead:* `np.argmax(model.predict(x), axis=-1)`,   if your model does multi-class classification   (e.g. if it uses a `softmax` last-layer activation).* `(model.predict(x) > 0.5).astype(\"int32\")`,   if your model does binary classification   (e.g. if it uses a `sigmoid` last-layer activation).\n",
            "  warnings.warn('`model.predict_classes()` is deprecated and '\n"
          ],
          "name": "stderr"
        }
      ]
    },
    {
      "cell_type": "code",
      "metadata": {
        "colab": {
          "base_uri": "https://localhost:8080/"
        },
        "id": "bUc9i4I3HH9B",
        "outputId": "2304a36e-ba2f-4e41-f686-d0f3600f6a2c"
      },
      "source": [
        "print(classification_report(y_test, y_pred, target_names=['Human', 'Bot']))"
      ],
      "execution_count": 115,
      "outputs": [
        {
          "output_type": "stream",
          "text": [
            "              precision    recall  f1-score   support\n",
            "\n",
            "       Human       1.00      0.94      0.97       874\n",
            "         Bot       0.82      1.00      0.90       245\n",
            "\n",
            "    accuracy                           0.95      1119\n",
            "   macro avg       0.91      0.97      0.93      1119\n",
            "weighted avg       0.96      0.95      0.95      1119\n",
            "\n"
          ],
          "name": "stdout"
        }
      ]
    },
    {
      "cell_type": "code",
      "metadata": {
        "colab": {
          "base_uri": "https://localhost:8080/"
        },
        "id": "tSCzI-cTHGSt",
        "outputId": "b1dab981-5f1c-4a14-ec77-8d7917ac054c"
      },
      "source": [
        "print(confusion_matrix(y_test, y_pred))\n",
        "tn, fp, fn, tp = confusion_matrix(y_test, y_pred).ravel()\n",
        "print(f\"True Negatives: {tn}, False Positives: {fp}, False Negatives: {fn}, True Positives: {tp}\")"
      ],
      "execution_count": 116,
      "outputs": [
        {
          "output_type": "stream",
          "text": [
            "[[820  54]\n",
            " [  1 244]]\n",
            "True Negatives: 820, False Positives: 54, False Negatives: 1, True Positives: 244\n"
          ],
          "name": "stdout"
        }
      ]
    }
  ]
}